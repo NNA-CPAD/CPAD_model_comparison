{
 "cells": [
  {
   "cell_type": "markdown",
   "id": "9a993988-08fc-4819-8183-ba455362ff3f",
   "metadata": {},
   "source": [
    "# Script for Extracting MRB Data\n",
    "**Description:** Reads in raw ERA5 and CESM data and outputs only the temperature data for the MRB to be used in the Func4ModelComparison  \n",
    "**Input Data:** Raw ERA5 and CESM Data  \n",
    "**Output Data:** only temperature data for ERA5 and CESM over the MRB  \n",
    "**Date:** June 2022  \n",
    "**Creator:** Emma Perkins  "
   ]
  },
  {
   "cell_type": "code",
   "execution_count": 1,
   "id": "4e2fb067-a525-4755-b9d1-a4bfea250386",
   "metadata": {},
   "outputs": [],
   "source": [
    "# Import relevant Packages\n",
    "import cartopy.crs as ccrs\n",
    "import matplotlib.pyplot as plt\n",
    "import numpy as np\n",
    "import xarray as xr\n",
    "import glob\n",
    "import itertools\n",
    "import scipy.stats as stats\n",
    "from math import sqrt"
   ]
  },
  {
   "cell_type": "code",
   "execution_count": 2,
   "id": "a9b0ef1b-5076-481a-a585-26ef7fcd429a",
   "metadata": {},
   "outputs": [
    {
     "name": "stdout",
     "output_type": "stream",
     "text": [
      "<xarray.Dataset>\n",
      "Dimensions:       (lev: 30, time: 73000, ilev: 31, lat: 192, lon: 288, slat: 191, slon: 288, nbnd: 2)\n",
      "Coordinates:\n",
      "  * lev           (lev) float64 3.643 7.595 14.36 24.61 ... 957.5 976.3 992.6\n",
      "  * ilev          (ilev) float64 2.255 5.032 10.16 18.56 ... 967.5 985.1 1e+03\n",
      "  * time          (time) object 1900-01-02 00:00:00 ... 2100-01-01 00:00:00\n",
      "  * lat           (lat) float64 -90.0 -89.06 -88.12 -87.17 ... 88.12 89.06 90.0\n",
      "  * lon           (lon) float64 0.0 1.25 2.5 3.75 ... 355.0 356.2 357.5 358.8\n",
      "  * slat          (slat) float64 -89.53 -88.59 -87.64 ... 87.64 88.59 89.53\n",
      "  * slon          (slon) float64 -0.625 0.625 1.875 3.125 ... 355.6 356.9 358.1\n",
      "Dimensions without coordinates: nbnd\n",
      "Data variables: (12/32)\n",
      "    hyam          (time, lev) float64 dask.array<chunksize=(36500, 30), meta=np.ndarray>\n",
      "    hybm          (time, lev) float64 dask.array<chunksize=(36500, 30), meta=np.ndarray>\n",
      "    hyai          (time, ilev) float64 dask.array<chunksize=(36500, 31), meta=np.ndarray>\n",
      "    hybi          (time, ilev) float64 dask.array<chunksize=(36500, 31), meta=np.ndarray>\n",
      "    P0            (time) float64 1e+05 1e+05 1e+05 1e+05 ... 1e+05 1e+05 1e+05\n",
      "    date          (time) int32 dask.array<chunksize=(36500,), meta=np.ndarray>\n",
      "    ...            ...\n",
      "    n2ovmr        (time) float64 dask.array<chunksize=(36500,), meta=np.ndarray>\n",
      "    f11vmr        (time) float64 dask.array<chunksize=(36500,), meta=np.ndarray>\n",
      "    f12vmr        (time) float64 dask.array<chunksize=(36500,), meta=np.ndarray>\n",
      "    sol_tsi       (time) float64 dask.array<chunksize=(36500,), meta=np.ndarray>\n",
      "    nsteph        (time) int32 dask.array<chunksize=(36500,), meta=np.ndarray>\n",
      "    TS            (time, lat, lon) float32 dask.array<chunksize=(36500, 192, 288), meta=np.ndarray>\n",
      "Attributes:\n",
      "    Conventions:      CF-1.0\n",
      "    source:           CAM\n",
      "    case:             b.e11.B1850C5CN.f09_g16.005\n",
      "    title:            UNSET\n",
      "    logname:          mai\n",
      "    host:             ys0257\n",
      "    Version:          $Name$\n",
      "    revision_Id:      $Id$\n",
      "    initial_file:     /glade/p/cesm/cseg//inputdata/atm/cam/inic/fv/cami-mam3...\n",
      "    topography_file:  /glade/p/cesm/cseg//inputdata/atm/cam/topo/USGS-gtopo30...\n"
     ]
    }
   ],
   "source": [
    "# cesm full data, long step\n",
    "cesm_path = '/glade/campaign/cesm/collections/cesmLE/CESM-CAM5-BGC-LE/atm/proc/tseries/daily/TREFHT/'\n",
    "cesm_file1 = cesm_path+'b.e11.B1850C5CN.f09_g16.005.cam.h1.TREFHT.19000101-19991231.nc'  # TREFHT = temp at reference height (2-meter air temp)\n",
    "cesm_file2 = cesm_path+'b.e11.B1850C5CN.f09_g16.005.cam.h1.TREFHT.20000101-20991231.nc'\n",
    "cesm_files = [cesm_file1, cesm_file2]\n",
    "with xr.open_mfdataset(cesm_files, concat_dim=None) as cesm_full:\n",
    "    print(cesm_full)\n",
    "\n",
    "cesm_temp = cesm_full.TREFHT\n",
    "\n",
    "outpath = '/glade/work/eperkins/CESM_MRB_TempData.nc'\n",
    "cesm_temp.to_netcdf(outpath)"
   ]
  },
  {
   "cell_type": "code",
   "execution_count": 3,
   "id": "6a0353cd-758a-4d3c-bb1e-e9674208a04e",
   "metadata": {},
   "outputs": [
    {
     "name": "stdout",
     "output_type": "stream",
     "text": [
      "<xarray.Dataset>\n",
      "Dimensions:    (longitude: 153, latitude: 89, time: 42368)\n",
      "Coordinates:\n",
      "  * longitude  (longitude) float32 -140.0 -139.8 -139.5 ... -102.5 -102.2 -102.0\n",
      "  * latitude   (latitude) float32 72.0 71.75 71.5 71.25 ... 50.5 50.25 50.0\n",
      "  * time       (time) datetime64[ns] 1950-01-01 ... 1978-12-31T18:00:00\n",
      "Data variables:\n",
      "    t2m        (time, latitude, longitude) float32 ...\n",
      "Attributes:\n",
      "    Conventions:  CF-1.6\n",
      "    history:      2022-06-16 00:18:40 GMT by grib_to_netcdf-2.24.3: /opt/ecmw...\n",
      "<xarray.Dataset>\n",
      "Dimensions:    (longitude: 153, latitude: 89, time: 52596)\n",
      "Coordinates:\n",
      "  * longitude  (longitude) float32 -140.0 -139.8 -139.5 ... -102.5 -102.2 -102.0\n",
      "  * latitude   (latitude) float32 72.0 71.75 71.5 71.25 ... 50.5 50.25 50.0\n",
      "  * time       (time) datetime64[ns] 1979-01-01 ... 2014-12-31T18:00:00\n",
      "Data variables:\n",
      "    t2m        (time, latitude, longitude) float32 ...\n",
      "Attributes:\n",
      "    Conventions:  CF-1.6\n",
      "    history:      2022-06-15 20:37:40 GMT by grib_to_netcdf-2.24.3: /opt/ecmw...\n"
     ]
    }
   ],
   "source": [
    "# ERA5 data (need to combine 2 datasets), long step\n",
    "era5_path = '/glade/work/eperkins/'\n",
    "era5_file1 = era5_path+'ERA5_hourly_temp_1950_1978.nc'\n",
    "era5_file2 = era5_path+'ERA5_hourly_temp_1979_2014.nc'\n",
    "era5_files = [era5_file1, era5_file2]\n",
    "\n",
    "with xr.open_dataset(era5_file1) as era5_data1:\n",
    "    print(era5_data1)\n",
    "with xr.open_dataset(era5_file2) as era5_data2:\n",
    "    print(era5_data2)\n",
    "\n",
    "era5_data = xr.merge([era5_data1, era5_data2])\n",
    "era5_data = era5_data.resample(time='1D').mean('time')\n",
    "era5_temp = era5_data.t2m\n",
    "\n",
    "outpath = '/glade/work/eperkins/ERA5_MRB_TempData.nc'\n",
    "era5_temp.to_netcdf(outpath)"
   ]
  },
  {
   "cell_type": "code",
   "execution_count": null,
   "id": "61adc47d-dd54-44d8-b26d-83f77d0bb94d",
   "metadata": {},
   "outputs": [],
   "source": []
  }
 ],
 "metadata": {
  "kernelspec": {
   "display_name": "atm_diag_env",
   "language": "python",
   "name": "atm_diag_env"
  },
  "language_info": {
   "codemirror_mode": {
    "name": "ipython",
    "version": 3
   },
   "file_extension": ".py",
   "mimetype": "text/x-python",
   "name": "python",
   "nbconvert_exporter": "python",
   "pygments_lexer": "ipython3",
   "version": "3.9.7"
  }
 },
 "nbformat": 4,
 "nbformat_minor": 5
}
