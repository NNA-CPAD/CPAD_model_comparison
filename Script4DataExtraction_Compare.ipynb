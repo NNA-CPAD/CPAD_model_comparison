{
 "cells": [
  {
   "cell_type": "markdown",
   "id": "e9d393da-7cde-46f0-97b2-2b90a820da39",
   "metadata": {
    "tags": []
   },
   "source": [
    "# Script to Extract Climate Model and Observational Data for Comparison\n",
    "**Input Data:** Climate and Observational Data  \n",
    "**Output Data:** Climate and Observational data for a specific variable and spatial extent  \n",
    "**Description:** Extracts data for a specific variable and spatial extent and exports them to a new file.  \n",
    "**Date:** June 2022  \n",
    "**Creator:** Emma Perkins  "
   ]
  },
  {
   "cell_type": "code",
   "execution_count": 1,
   "id": "fec9dcd5-97d6-4ad2-8b65-cc6880503684",
   "metadata": {},
   "outputs": [],
   "source": [
    "# import relevant packages\n",
    "import xarray as xr\n",
    "import glob\n",
    "import matplotlib as plt\n",
    "import numpy as np\n",
    "import cartopy.crs as ccrs"
   ]
  },
  {
   "cell_type": "markdown",
   "id": "0789d7a4-b228-47ed-99ab-f4f154e48963",
   "metadata": {},
   "source": [
    "### Load Full Data"
   ]
  },
  {
   "cell_type": "code",
   "execution_count": 2,
   "id": "64ae27c8-1991-4da6-b598-dc151d68a44e",
   "metadata": {},
   "outputs": [],
   "source": [
    "# full observational data\n",
    "obs_paths = '/gpfs/fs1/collections/rda/data/ds633.0/e5.oper.an.sfc/*/'  # change to your paths\n",
    "obs_names = 'e5.oper.an.sfc.128_167_2t.ll025sc.*.nc'  # change to your files, currently reading in ERA5 2-meter air temp\n",
    "obs_files = sorted(glob.glob(obs_paths+obs_names))\n",
    "obs_data = xr.open_mfdataset(obs_files, concat_dim=None) \n",
    "\n",
    "# full climate model data\n",
    "clim_path = '/glade/campaign/cesm/collections/cesmLE/CESM-CAM5-BGC-LE/ice/proc/tseries/daily/hs_d/'  # change to your paths\n",
    "clim_file1 = clim_path+'b.e11.B1850C5CN.f09_g16.005.cice.h1.hs_d_nh.19000101-19991231.nc'  # change to your files\n",
    "clim_file2 = clim_path+'b.e11.B1850C5CN.f09_g16.005.cice.h1.hs_d_nh.20000101-20991231.nc'\n",
    "clim_files = [clim_file1, clim_file2]\n",
    "clim_data = xr.open_mfdataset(clim_files, concat_dim=None)"
   ]
  },
  {
   "cell_type": "markdown",
   "id": "dbc3bba2-1459-4203-a1f1-2d89e7d4574f",
   "metadata": {
    "tags": []
   },
   "source": [
    "### Select Variable of Interest"
   ]
  },
  {
   "cell_type": "code",
   "execution_count": 3,
   "id": "1f9ed3df-7b9f-42f0-b234-a61d80cfb51a",
   "metadata": {},
   "outputs": [],
   "source": [
    "clim_var = 'hs_d'  # change to variable of interest from climate model data\n",
    "clim_select = clim_data[clim_var]\n",
    "\n",
    "obs_var = 'VAR_2T'  # change to variable of interest from observational data\n",
    "obs_select = obs_data[obs_var]"
   ]
  },
  {
   "cell_type": "markdown",
   "id": "ded70e49-735f-4b2f-b915-958af2376c79",
   "metadata": {},
   "source": [
    "### Modify Lat Lon Coordinates"
   ]
  },
  {
   "cell_type": "code",
   "execution_count": 4,
   "id": "3e567ab2-2491-4fa8-8c60-4c5c9e5f60e7",
   "metadata": {},
   "outputs": [
    {
     "name": "stdout",
     "output_type": "stream",
     "text": [
      "<xarray.DataArray 'hs_d' (time: 73000, nj: 104, ni: 320)>\n",
      "dask.array<concatenate, shape=(73000, 104, 320), dtype=float32, chunksize=(36500, 104, 320), chunktype=numpy.ndarray>\n",
      "Coordinates:\n",
      "  * time     (time) object 1900-01-02 00:00:00 ... 2100-01-01 00:00:00\n",
      "    TLON     (nj, ni) float32 dask.array<chunksize=(104, 320), meta=np.ndarray>\n",
      "    TLAT     (nj, ni) float32 dask.array<chunksize=(104, 320), meta=np.ndarray>\n",
      "    ULON     (nj, ni) float32 dask.array<chunksize=(104, 320), meta=np.ndarray>\n",
      "    ULAT     (nj, ni) float32 dask.array<chunksize=(104, 320), meta=np.ndarray>\n",
      "Dimensions without coordinates: nj, ni\n",
      "Attributes:\n",
      "    units:          m\n",
      "    long_name:      grid cell mean snow thickness\n",
      "    cell_measures:  area: tarea\n",
      "    comment:        snow volume per unit grid cell area\n",
      "    cell_methods:   time: mean\n",
      "    time_rep:       averaged\n"
     ]
    }
   ],
   "source": [
    "print(clim_select)"
   ]
  },
  {
   "cell_type": "code",
   "execution_count": 5,
   "id": "222e8355-3880-4dad-8e64-f328160374bb",
   "metadata": {},
   "outputs": [
    {
     "ename": "TypeError",
     "evalue": "'module' object is not callable",
     "output_type": "error",
     "traceback": [
      "\u001b[0;31m---------------------------------------------------------------------------\u001b[0m",
      "\u001b[0;31mTypeError\u001b[0m                                 Traceback (most recent call last)",
      "\u001b[0;32m/glade/scratch/eperkins/ipykernel_72952/1812649066.py\u001b[0m in \u001b[0;36m<module>\u001b[0;34m\u001b[0m\n\u001b[1;32m      1\u001b[0m \u001b[0mcmap1\u001b[0m \u001b[0;34m=\u001b[0m \u001b[0mplt\u001b[0m\u001b[0;34m.\u001b[0m\u001b[0mcm\u001b[0m\u001b[0;34m.\u001b[0m\u001b[0mviridis\u001b[0m\u001b[0;34m\u001b[0m\u001b[0;34m\u001b[0m\u001b[0m\n\u001b[1;32m      2\u001b[0m \u001b[0mlev1\u001b[0m \u001b[0;34m=\u001b[0m \u001b[0mnp\u001b[0m\u001b[0;34m.\u001b[0m\u001b[0marange\u001b[0m\u001b[0;34m(\u001b[0m\u001b[0;36m0\u001b[0m\u001b[0;34m,\u001b[0m\u001b[0;36m3.001\u001b[0m\u001b[0;34m,\u001b[0m\u001b[0;36m0.01\u001b[0m\u001b[0;34m)\u001b[0m\u001b[0;34m\u001b[0m\u001b[0;34m\u001b[0m\u001b[0m\n\u001b[0;32m----> 3\u001b[0;31m \u001b[0max1\u001b[0m \u001b[0;34m=\u001b[0m \u001b[0mplt\u001b[0m\u001b[0;34m.\u001b[0m\u001b[0maxes\u001b[0m\u001b[0;34m(\u001b[0m\u001b[0mprojection\u001b[0m\u001b[0;34m=\u001b[0m\u001b[0mccrs\u001b[0m\u001b[0;34m.\u001b[0m\u001b[0mPlateCarree\u001b[0m\u001b[0;34m(\u001b[0m\u001b[0;34m)\u001b[0m\u001b[0;34m)\u001b[0m\u001b[0;34m\u001b[0m\u001b[0;34m\u001b[0m\u001b[0m\n\u001b[0m\u001b[1;32m      4\u001b[0m \u001b[0mclim_select\u001b[0m\u001b[0;34m.\u001b[0m\u001b[0misel\u001b[0m\u001b[0;34m(\u001b[0m\u001b[0mtime\u001b[0m\u001b[0;34m=\u001b[0m\u001b[0;36m0\u001b[0m\u001b[0;34m)\u001b[0m\u001b[0;34m.\u001b[0m\u001b[0mplot\u001b[0m\u001b[0;34m.\u001b[0m\u001b[0mcontourf\u001b[0m\u001b[0;34m(\u001b[0m\u001b[0mcmap\u001b[0m \u001b[0;34m=\u001b[0m \u001b[0mcmap1\u001b[0m\u001b[0;34m,\u001b[0m \u001b[0mlevels\u001b[0m \u001b[0;34m=\u001b[0m \u001b[0mlev1\u001b[0m\u001b[0;34m,\u001b[0m \u001b[0mtransform\u001b[0m\u001b[0;34m=\u001b[0m\u001b[0mccrs\u001b[0m\u001b[0;34m.\u001b[0m\u001b[0mPlateCarree\u001b[0m\u001b[0;34m(\u001b[0m\u001b[0;34m)\u001b[0m\u001b[0;34m)\u001b[0m\u001b[0;34m\u001b[0m\u001b[0;34m\u001b[0m\u001b[0m\n\u001b[1;32m      5\u001b[0m \u001b[0max1\u001b[0m\u001b[0;34m.\u001b[0m\u001b[0mcoastlines\u001b[0m\u001b[0;34m(\u001b[0m\u001b[0;34m)\u001b[0m\u001b[0;34m\u001b[0m\u001b[0;34m\u001b[0m\u001b[0m\n",
      "\u001b[0;31mTypeError\u001b[0m: 'module' object is not callable"
     ]
    }
   ],
   "source": [
    "cmap1 = plt.cm.viridis\n",
    "lev1 = np.arange(0,3.001,0.01)\n",
    "ax1 = plt.axes(projection=ccrs.PlateCarree())\n",
    "clim_select.isel(time=0).plot.contourf(cmap = cmap1, levels = lev1, transform=ccrs.PlateCarree())\n",
    "ax1.coastlines()"
   ]
  },
  {
   "cell_type": "code",
   "execution_count": null,
   "id": "693784be-258a-490e-ae0b-05b4fd851116",
   "metadata": {},
   "outputs": [],
   "source": [
    "float(clim_select.isel(time=0)[75][75])"
   ]
  },
  {
   "cell_type": "markdown",
   "id": "3cd84b65-0f1a-4de3-bd27-1990f1bcc296",
   "metadata": {
    "tags": []
   },
   "source": [
    "### Select Area of Interest"
   ]
  },
  {
   "cell_type": "code",
   "execution_count": 5,
   "id": "01dd5808-1ab2-4950-bcc2-391769e941c8",
   "metadata": {},
   "outputs": [
    {
     "name": "stderr",
     "output_type": "stream",
     "text": [
      "/glade/work/eperkins/miniconda3/envs/analysis3/lib/python3.7/site-packages/xarray/core/indexing.py:1227: PerformanceWarning: Slicing is producing a large chunk. To accept the large\n",
      "chunk and silence this warning, set the option\n",
      "    >>> with dask.config.set(**{'array.slicing.split_large_chunks': False}):\n",
      "    ...     array[indexer]\n",
      "\n",
      "To avoid creating the large chunks, set the option\n",
      "    >>> with dask.config.set(**{'array.slicing.split_large_chunks': True}):\n",
      "    ...     array[indexer]\n",
      "  return self.array[key]\n",
      "/glade/work/eperkins/miniconda3/envs/analysis3/lib/python3.7/site-packages/xarray/core/indexing.py:1227: PerformanceWarning: Slicing is producing a large chunk. To accept the large\n",
      "chunk and silence this warning, set the option\n",
      "    >>> with dask.config.set(**{'array.slicing.split_large_chunks': False}):\n",
      "    ...     array[indexer]\n",
      "\n",
      "To avoid creating the large chunks, set the option\n",
      "    >>> with dask.config.set(**{'array.slicing.split_large_chunks': True}):\n",
      "    ...     array[indexer]\n",
      "  return self.array[key]\n",
      "/glade/work/eperkins/miniconda3/envs/analysis3/lib/python3.7/site-packages/xarray/core/indexing.py:1227: PerformanceWarning: Slicing is producing a large chunk. To accept the large\n",
      "chunk and silence this warning, set the option\n",
      "    >>> with dask.config.set(**{'array.slicing.split_large_chunks': False}):\n",
      "    ...     array[indexer]\n",
      "\n",
      "To avoid creating the large chunks, set the option\n",
      "    >>> with dask.config.set(**{'array.slicing.split_large_chunks': True}):\n",
      "    ...     array[indexer]\n",
      "  return self.array[key]\n",
      "/glade/work/eperkins/miniconda3/envs/analysis3/lib/python3.7/site-packages/xarray/core/indexing.py:1227: PerformanceWarning: Slicing is producing a large chunk. To accept the large\n",
      "chunk and silence this warning, set the option\n",
      "    >>> with dask.config.set(**{'array.slicing.split_large_chunks': False}):\n",
      "    ...     array[indexer]\n",
      "\n",
      "To avoid creating the large chunks, set the option\n",
      "    >>> with dask.config.set(**{'array.slicing.split_large_chunks': True}):\n",
      "    ...     array[indexer]\n",
      "  return self.array[key]\n",
      "/glade/work/eperkins/miniconda3/envs/analysis3/lib/python3.7/site-packages/xarray/core/indexing.py:1227: PerformanceWarning: Slicing is producing a large chunk. To accept the large\n",
      "chunk and silence this warning, set the option\n",
      "    >>> with dask.config.set(**{'array.slicing.split_large_chunks': False}):\n",
      "    ...     array[indexer]\n",
      "\n",
      "To avoid creating the large chunks, set the option\n",
      "    >>> with dask.config.set(**{'array.slicing.split_large_chunks': True}):\n",
      "    ...     array[indexer]\n",
      "  return self.array[key]\n"
     ]
    }
   ],
   "source": [
    "# determine variable names\n",
    "obs_lat_var = 'latitude'  # name of latitude variable for observational data\n",
    "clim_lat_var = 'TLAT'  # name of latitude variable for climate data\n",
    "obs_lon_var = 'longitude'  # name of longitude variable for observational data\n",
    "clim_lon_var = 'TLON'  # name of longitude variable for climate model data\n",
    "\n",
    "# rename lat lon variables to all be lat lon\n",
    "obs_select = obs_select.rename({obs_lat_var: 'lat', obs_lon_var: 'lon'})\n",
    "clim_select = clim_select.rename({clim_lat_var: 'lat', clim_lon_var: 'lon'})\n",
    "\n",
    "# sort by latitude:\n",
    "obs_select = obs_select.sortby('lat')\n",
    "clim_select = clim_select.sortby('lat')\n",
    "\n",
    "obs_lon_type = 'long3'  # observational longitude coordinate type (long1 or long3)\n",
    "clim_lon_type = 'long3'  # climate model longitude coordinate type (long1 or long3)\n",
    "if clim_lon_type == 'long3':\n",
    "    clim_lon_new = (clim_select.lon + 180) % 360 - 180\n",
    "    clim_select['lon'] = clim_lon_new\n",
    "if obs_lon_type == 'long3':\n",
    "    obs_lon_new = (obs_select.lon + 180) % 360 - 180\n",
    "    obs_select['lon'] = obs_lon_new\n",
    "clim_select = clim_select.sortby('lon')\n",
    "obs_select = obs_select.sortby('lon')\n",
    "\n",
    "# select input area from left to right / west to east:\n",
    "lat_min = 50  # minimum latitude\n",
    "lat_max = 90  # maximum latitude\n",
    "lon_min = 150  # minimum longitude\n",
    "lon_max = -100  # maximum longitude\n",
    "\n",
    "if lon_min < lon_max:\n",
    "    obs_select = obs_select.sel(lat=slice(lat_min, lat_max), lon=slice(lon_min, lon_max))\n",
    "    clim_select = clim_select.sel(lat=slice(lat_min, lat_max), lon=slice(lon_min, lon_max))\n",
    "else:\n",
    "    obs_select1 = obs_select.sel(lat=slice(lat_min, lat_max), lon=slice(lon_min, 180))\n",
    "    obs_select2 = obs_select.sel(lat=slice(lat_min, lat_max), lon=slice(-180, lon_max))\n",
    "    obs_select = xr.concat([obs_select1, obs_select2], dim='lon')\n",
    "\n",
    "    clim_select1 = clim_select.sel(lat=slice(lat_min, lat_max), lon=slice(lon_min, 180))\n",
    "    clim_select2 = clim_select.sel(lat=slice(lat_min, lat_max), lon=slice(-180, lon_max))\n",
    "    clim_select = xr.concat([clim_select1, clim_select2], dim='lon')\n",
    "clim_select = clim_select.sortby('lon')\n",
    "obs_select = obs_select.sortby('lon')"
   ]
  },
  {
   "cell_type": "markdown",
   "id": "d69d951e-6665-4834-8f01-cce6232a2657",
   "metadata": {},
   "source": [
    "### Standardize Time Step"
   ]
  },
  {
   "cell_type": "code",
   "execution_count": 7,
   "id": "8c0e80f3-f0bb-4115-94cd-c779cf6e24f7",
   "metadata": {},
   "outputs": [
    {
     "name": "stdout",
     "output_type": "stream",
     "text": [
      "CPU times: user 2min 50s, sys: 2min 27s, total: 5min 17s\n",
      "Wall time: 5min 58s\n"
     ]
    }
   ],
   "source": [
    "%%time\n",
    "\n",
    "analysis_time_type = '1D'  # time step for analysis (ex: 3H, 1D, 1M, 1Y, etc.)\n",
    "\n",
    "obs_select = obs_select.resample(time=analysis_time_type).sum('time')\n",
    "clim_select = clim_select.resample(time=analysis_time_type).sum('time')"
   ]
  },
  {
   "cell_type": "code",
   "execution_count": 4,
   "id": "6f2c7bab-b806-4c91-95a4-6c73f458cfe7",
   "metadata": {},
   "outputs": [],
   "source": [
    "clim_select = clim_select * 86400\n",
    "clim_select = clim_select.rename('TP')"
   ]
  },
  {
   "cell_type": "code",
   "execution_count": 5,
   "id": "b09b34eb-fbeb-40dc-b1c6-e77e2fefd60e",
   "metadata": {},
   "outputs": [
    {
     "name": "stdout",
     "output_type": "stream",
     "text": [
      "<xarray.DataArray 'TP' (time: 73000, lat: 192, lon: 288)>\n",
      "dask.array<mul, shape=(73000, 192, 288), dtype=float64, chunksize=(36500, 192, 288), chunktype=numpy.ndarray>\n",
      "Coordinates:\n",
      "  * time     (time) object 1900-01-02 00:00:00 ... 2100-01-01 00:00:00\n",
      "  * lat      (lat) float64 -90.0 -89.06 -88.12 -87.17 ... 87.17 88.12 89.06 90.0\n",
      "  * lon      (lon) float64 0.0 1.25 2.5 3.75 5.0 ... 355.0 356.2 357.5 358.8\n"
     ]
    }
   ],
   "source": [
    "print(clim_select)"
   ]
  },
  {
   "cell_type": "markdown",
   "id": "648dda5b-bfc0-4a8e-b0c0-3b662ad532cf",
   "metadata": {},
   "source": [
    "### Export Data - Long Step (8+ hours, Run Overnight)"
   ]
  },
  {
   "cell_type": "code",
   "execution_count": 8,
   "id": "5337e8c2-b828-4f70-99c5-6267b6510640",
   "metadata": {},
   "outputs": [
    {
     "name": "stdout",
     "output_type": "stream",
     "text": [
      "CPU times: user 16min 35s, sys: 3h 15min 4s, total: 3h 31min 39s\n",
      "Wall time: 8h 39min 30s\n"
     ]
    }
   ],
   "source": [
    "%%time\n",
    "\n",
    "obs_outpath = '/glade/campaign/cgd/ppc/eperkins/era5/'  # path for new observational data file\n",
    "clim_outpath = '/glade/campaign/cgd/ppc/eperkins/cesm/'  # path for new climate model data file\n",
    "obs_name = 'era5_t2m_1979_2022_1D_MRBplus'  # name for new observational data file\n",
    "clim_name = 'cesmLE_B1850C5CN_TP_1900_2099_1D_MRBplus'  # name for new climate model data file\n",
    "\n",
    "# obs_select.load().to_netcdf(obs_outpath+obs_name+'.nc')\n",
    "clim_select.load().to_netcdf(clim_outpath+clim_name+'.nc')"
   ]
  }
 ],
 "metadata": {
  "kernelspec": {
   "display_name": "atm_diag_env",
   "language": "python",
   "name": "atm_diag_env"
  },
  "language_info": {
   "codemirror_mode": {
    "name": "ipython",
    "version": 3
   },
   "file_extension": ".py",
   "mimetype": "text/x-python",
   "name": "python",
   "nbconvert_exporter": "python",
   "pygments_lexer": "ipython3",
   "version": "3.9.7"
  }
 },
 "nbformat": 4,
 "nbformat_minor": 5
}
