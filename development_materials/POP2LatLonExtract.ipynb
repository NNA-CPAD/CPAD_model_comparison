{
 "cells": [
  {
   "cell_type": "markdown",
   "id": "7b574b5b-7d26-4f7a-a909-53f0a76d7d00",
   "metadata": {
    "tags": []
   },
   "source": [
    "# Script to Extract Data\n",
    "**Input Data:** Original Data  \n",
    "**Output Data:** Data for a specific variable and spatial extent  \n",
    "**Description:** Extracts data for a specific variable and spatial extent and exports them to a new file.  \n",
    "**Date:** June 2022  \n",
    "**Author:** Emma Perkins  "
   ]
  },
  {
   "cell_type": "code",
   "execution_count": 1,
   "id": "4317a38b-769a-4316-93ab-6f366eb05425",
   "metadata": {},
   "outputs": [],
   "source": [
    "# import relevant packages\n",
    "import xarray as xr\n",
    "import glob\n",
    "import numpy as np\n",
    "import xesmf as xe\n",
    "import matplotlib.pyplot as plt\n",
    "import cartopy.crs as ccrs\n",
    "from scipy import spatial"
   ]
  },
  {
   "cell_type": "markdown",
   "id": "ee40ccbc-5c9b-45a9-9201-b85e728d5545",
   "metadata": {},
   "source": [
    "### Load Full Data"
   ]
  },
  {
   "cell_type": "code",
   "execution_count": 2,
   "id": "4e2a7826-c20a-4435-b90b-9b373837f035",
   "metadata": {},
   "outputs": [],
   "source": [
    "# full data\n",
    "path = '/glade/campaign/cesm/collections/cesmLE/CESM-CAM5-BGC-LE/ice/proc/tseries/daily/aice_d/'  # change to your paths\n",
    "file1 = path+'b.e11.B1850C5CN.f09_g16.005.cice.h1.aice_d_nh.19000101-19991231.nc'  # change to your files\n",
    "file2 = path+'b.e11.B1850C5CN.f09_g16.005.cice.h1.aice_d_nh.20000101-20991231.nc'\n",
    "files = [file1, file2]\n",
    "full_data = xr.open_mfdataset(files, concat_dim=None)"
   ]
  },
  {
   "cell_type": "markdown",
   "id": "b50fe81b-4786-4dc9-a338-1d95806e425f",
   "metadata": {
    "tags": []
   },
   "source": [
    "### Select Variable of Interest"
   ]
  },
  {
   "cell_type": "code",
   "execution_count": 3,
   "id": "8f8cd95c-10b6-42a2-9830-fd1254d0b25e",
   "metadata": {},
   "outputs": [],
   "source": [
    "data_var = 'aice_d'  # change to variable of interest from climate model data\n",
    "data_select = full_data[data_var]"
   ]
  },
  {
   "cell_type": "code",
   "execution_count": 4,
   "id": "fee15f8b-fa9b-4430-8ce2-aa20b1614b87",
   "metadata": {},
   "outputs": [
    {
     "data": {
      "text/plain": [
       "<matplotlib.collections.QuadMesh at 0x2aed7a323d10>"
      ]
     },
     "execution_count": 4,
     "metadata": {},
     "output_type": "execute_result"
    },
    {
     "data": {
      "image/png": "[encoded data removed]",
      "text/plain": [
       "<Figure size 432x288 with 2 Axes>"
      ]
     },
     "metadata": {
      "needs_background": "light"
     },
     "output_type": "display_data"
    }
   ],
   "source": [
    "data_select.mean(dim='time').plot()"
   ]
  },
  {
   "cell_type": "markdown",
   "id": "f8fd0332-e492-4d01-b8e1-2b3fdaf7217d",
   "metadata": {},
   "source": [
    "### Convert from POP grid to Lat/Lon"
   ]
  },
  {
   "cell_type": "code",
   "execution_count": 5,
   "id": "40a17031-7455-4171-aea0-8727d61b873f",
   "metadata": {},
   "outputs": [],
   "source": [
    "data_select = data_select.rename({'TLON': 'lon', 'TLAT': 'lat'})"
   ]
  },
  {
   "cell_type": "code",
   "execution_count": 6,
   "id": "9e734248-909b-49be-b20b-ee56254365c0",
   "metadata": {},
   "outputs": [
    {
     "name": "stdout",
     "output_type": "stream",
     "text": [
      "<xarray.DataArray 'aice_d' (time: 73000, nj: 104, ni: 320)>\n",
      "dask.array<concatenate, shape=(73000, 104, 320), dtype=float32, chunksize=(36500, 104, 320), chunktype=numpy.ndarray>\n",
      "Coordinates:\n",
      "  * time     (time) object 1900-01-02 00:00:00 ... 2100-01-01 00:00:00\n",
      "    lon      (nj, ni) float32 dask.array<chunksize=(104, 320), meta=np.ndarray>\n",
      "    lat      (nj, ni) float32 dask.array<chunksize=(104, 320), meta=np.ndarray>\n",
      "    ULON     (nj, ni) float32 dask.array<chunksize=(104, 320), meta=np.ndarray>\n",
      "    ULAT     (nj, ni) float32 dask.array<chunksize=(104, 320), meta=np.ndarray>\n",
      "Dimensions without coordinates: nj, ni\n",
      "Attributes:\n",
      "    units:          %\n",
      "    long_name:      ice area  (aggregate)\n",
      "    cell_measures:  area: tarea\n",
      "    comment:        none\n",
      "    cell_methods:   time: mean\n",
      "    time_rep:       averaged\n"
     ]
    }
   ],
   "source": [
    "print(data_select)"
   ]
  },
  {
   "cell_type": "code",
   "execution_count": 41,
   "id": "ebf2f110-7a5a-4545-887d-ca9231afccac",
   "metadata": {},
   "outputs": [
    {
     "data": {
      "text/plain": [
       "nan"
      ]
     },
     "execution_count": 41,
     "metadata": {},
     "output_type": "execute_result"
    }
   ],
   "source": [
    "float(data_select.isel(ni=100).isel(nj=40).lat)"
   ]
  },
  {
   "cell_type": "code",
   "execution_count": 5,
   "id": "b1eb116b-cda0-4fbf-8f3a-15763c9156f4",
   "metadata": {},
   "outputs": [
    {
     "data": {
      "text/plain": [
       "320.55792236328125"
      ]
     },
     "execution_count": 5,
     "metadata": {},
     "output_type": "execute_result"
    }
   ],
   "source": [
    "float(data_select.lon[0][0])"
   ]
  },
  {
   "cell_type": "code",
   "execution_count": 62,
   "id": "70a78ac2-83f8-435a-9602-ace16ba1b0ce",
   "metadata": {
    "tags": []
   },
   "outputs": [
    {
     "data": {
      "text/plain": [
       "(array([91]), array([0]))"
      ]
     },
     "execution_count": 62,
     "metadata": {},
     "output_type": "execute_result"
    }
   ],
   "source": [
    "def find_nearest(array, value):\n",
    "    idx = np.where(np.abs(array - value) == (np.abs(array - value)).min())\n",
    "    return idx\n",
    "\n",
    "\n",
    "find_nearest(data_select.lon, 320)"
   ]
  },
  {
   "cell_type": "code",
   "execution_count": 48,
   "id": "53b138cf-9460-426a-aca1-1c4fb7cbb928",
   "metadata": {},
   "outputs": [
    {
     "name": "stdout",
     "output_type": "stream",
     "text": [
      "CPU times: user 2min 40s, sys: 1.93 s, total: 2min 42s\n",
      "Wall time: 2min 53s\n"
     ]
    }
   ],
   "source": [
    "%%time\n",
    "\n",
    "latlon = np.zeros([33280, 2])\n",
    "idx = 0\n",
    "for j in range(0, len(data_select.nj)):\n",
    "    for i in range(0, len(data_select.ni)):\n",
    "        latlon_point = [float(data_select.lat[j, i]), float(data_select.lon[j, i])]\n",
    "        # latlon.append(latlon_point)\n",
    "        latlon[idx] = latlon_point\n",
    "        idx = idx + 1"
   ]
  },
  {
   "cell_type": "code",
   "execution_count": 51,
   "id": "a1472a76-2f08-4ad7-964d-497fbe8ae42b",
   "metadata": {},
   "outputs": [],
   "source": [
    "id = np.where((latlon[:, 0]>=0))"
   ]
  },
  {
   "cell_type": "code",
   "execution_count": 53,
   "id": "dbe4850f-6e28-45b6-94d3-76a47b931633",
   "metadata": {},
   "outputs": [],
   "source": [
    "latlon = latlon[id]"
   ]
  },
  {
   "cell_type": "code",
   "execution_count": null,
   "id": "5fffca6c-be24-4bc7-9bb0-1a6adce087d9",
   "metadata": {},
   "outputs": [],
   "source": [
    "%%time\n",
    "\n",
    "new_data = np.zeros([len(latlon), 3])\n",
    "for i in range(0, len(latlon)):\n",
    "    data_index = np.where(np.logical_and(data_select.mean(dim='time').lat == latlon[i,0], data_select.mean(dim='time').lon == latlon[i,1]))\n",
    "    data_point = float(data_select.mean(dim='time').isel(nj=data_index[0][0]).isel(ni=data_index[1][0]))\n",
    "    new_data[i] = [latlon[i, 0], latlon[i, 1], data_point]"
   ]
  },
  {
   "cell_type": "code",
   "execution_count": 54,
   "id": "f0514beb-7ba3-48aa-b288-77ec472ecf45",
   "metadata": {},
   "outputs": [
    {
     "name": "stdout",
     "output_type": "stream",
     "text": [
      "[[ 30.37925911 320.55792236]\n",
      " [ 30.38017273 321.67376709]\n",
      " [ 30.38199806 322.78964233]\n",
      " ...\n",
      " [ 72.97351074 310.87799072]\n",
      " [ 72.90960693 311.23446655]\n",
      " [ 72.84783936 311.59719849]]\n"
     ]
    }
   ],
   "source": [
    "print(latlon)"
   ]
  },
  {
   "cell_type": "code",
   "execution_count": 59,
   "id": "520c4b09-a455-40fe-a32c-20bdad88cc4e",
   "metadata": {},
   "outputs": [
    {
     "data": {
      "text/html": [
       "<div><svg style=\"position: absolute; width: 0; height: 0; overflow: hidden\">\n",
       "<defs>\n",
       "<symbol id=\"icon-database\" viewBox=\"0 0 32 32\">\n",
       "<path d=\"M16 0c-8.837 0-16 2.239-16 5v4c0 2.761 7.163 5 16 5s16-2.239 16-5v-4c0-2.761-7.163-5-16-5z\"></path>\n",
       "<path d=\"M16 17c-8.837 0-16-2.239-16-5v6c0 2.761 7.163 5 16 5s16-2.239 16-5v-6c0 2.761-7.163 5-16 5z\"></path>\n",
       "<path d=\"M16 26c-8.837 0-16-2.239-16-5v6c0 2.761 7.163 5 16 5s16-2.239 16-5v-6c0 2.761-7.163 5-16 5z\"></path>\n",
       "</symbol>\n",
       "<symbol id=\"icon-file-text2\" viewBox=\"0 0 32 32\">\n",
       "<path d=\"M28.681 7.159c-0.694-0.947-1.662-2.053-2.724-3.116s-2.169-2.030-3.116-2.724c-1.612-1.182-2.393-1.319-2.841-1.319h-15.5c-1.378 0-2.5 1.121-2.5 2.5v27c0 1.378 1.122 2.5 2.5 2.5h23c1.378 0 2.5-1.122 2.5-2.5v-19.5c0-0.448-0.137-1.23-1.319-2.841zM24.543 5.457c0.959 0.959 1.712 1.825 2.268 2.543h-4.811v-4.811c0.718 0.556 1.584 1.309 2.543 2.268zM28 29.5c0 0.271-0.229 0.5-0.5 0.5h-23c-0.271 0-0.5-0.229-0.5-0.5v-27c0-0.271 0.229-0.5 0.5-0.5 0 0 15.499-0 15.5 0v7c0 0.552 0.448 1 1 1h7v19.5z\"></path>\n",
       "<path d=\"M23 26h-14c-0.552 0-1-0.448-1-1s0.448-1 1-1h14c0.552 0 1 0.448 1 1s-0.448 1-1 1z\"></path>\n",
       "<path d=\"M23 22h-14c-0.552 0-1-0.448-1-1s0.448-1 1-1h14c0.552 0 1 0.448 1 1s-0.448 1-1 1z\"></path>\n",
       "<path d=\"M23 18h-14c-0.552 0-1-0.448-1-1s0.448-1 1-1h14c0.552 0 1 0.448 1 1s-0.448 1-1 1z\"></path>\n",
       "</symbol>\n",
       "</defs>\n",
       "</svg>\n",
       "<style>/* CSS stylesheet for displaying xarray objects in jupyterlab.\n",
       " *\n",
       " */\n",
       "\n",
       ":root {\n",
       "  --xr-font-color0: var(--jp-content-font-color0, rgba(0, 0, 0, 1));\n",
       "  --xr-font-color2: var(--jp-content-font-color2, rgba(0, 0, 0, 0.54));\n",
       "  --xr-font-color3: var(--jp-content-font-color3, rgba(0, 0, 0, 0.38));\n",
       "  --xr-border-color: var(--jp-border-color2, #e0e0e0);\n",
       "  --xr-disabled-color: var(--jp-layout-color3, #bdbdbd);\n",
       "  --xr-background-color: var(--jp-layout-color0, white);\n",
       "  --xr-background-color-row-even: var(--jp-layout-color1, white);\n",
       "  --xr-background-color-row-odd: var(--jp-layout-color2, #eeeeee);\n",
       "}\n",
       "\n",
       "html[theme=dark],\n",
       "body.vscode-dark {\n",
       "  --xr-font-color0: rgba(255, 255, 255, 1);\n",
       "  --xr-font-color2: rgba(255, 255, 255, 0.54);\n",
       "  --xr-font-color3: rgba(255, 255, 255, 0.38);\n",
       "  --xr-border-color: #1F1F1F;\n",
       "  --xr-disabled-color: #515151;\n",
       "  --xr-background-color: #111111;\n",
       "  --xr-background-color-row-even: #111111;\n",
       "  --xr-background-color-row-odd: #313131;\n",
       "}\n",
       "\n",
       ".xr-wrap {\n",
       "  display: block !important;\n",
       "  min-width: 300px;\n",
       "  max-width: 700px;\n",
       "}\n",
       "\n",
       ".xr-text-repr-fallback {\n",
       "  /* fallback to plain text repr when CSS is not injected (untrusted notebook) */\n",
       "  display: none;\n",
       "}\n",
       "\n",
       ".xr-header {\n",
       "  padding-top: 6px;\n",
       "  padding-bottom: 6px;\n",
       "  margin-bottom: 4px;\n",
       "  border-bottom: solid 1px var(--xr-border-color);\n",
       "}\n",
       "\n",
       ".xr-header > div,\n",
       ".xr-header > ul {\n",
       "  display: inline;\n",
       "  margin-top: 0;\n",
       "  margin-bottom: 0;\n",
       "}\n",
       "\n",
       ".xr-obj-type,\n",
       ".xr-array-name {\n",
       "  margin-left: 2px;\n",
       "  margin-right: 10px;\n",
       "}\n",
       "\n",
       ".xr-obj-type {\n",
       "  color: var(--xr-font-color2);\n",
       "}\n",
       "\n",
       ".xr-sections {\n",
       "  padding-left: 0 !important;\n",
       "  display: grid;\n",
       "  grid-template-columns: 150px auto auto 1fr 20px 20px;\n",
       "}\n",
       "\n",
       ".xr-section-item {\n",
       "  display: contents;\n",
       "}\n",
       "\n",
       ".xr-section-item input {\n",
       "  display: none;\n",
       "}\n",
       "\n",
       ".xr-section-item input + label {\n",
       "  color: var(--xr-disabled-color);\n",
       "}\n",
       "\n",
       ".xr-section-item input:enabled + label {\n",
       "  cursor: pointer;\n",
       "  color: var(--xr-font-color2);\n",
       "}\n",
       "\n",
       ".xr-section-item input:enabled + label:hover {\n",
       "  color: var(--xr-font-color0);\n",
       "}\n",
       "\n",
       ".xr-section-summary {\n",
       "  grid-column: 1;\n",
       "  color: var(--xr-font-color2);\n",
       "  font-weight: 500;\n",
       "}\n",
       "\n",
       ".xr-section-summary > span {\n",
       "  display: inline-block;\n",
       "  padding-left: 0.5em;\n",
       "}\n",
       "\n",
       ".xr-section-summary-in:disabled + label {\n",
       "  color: var(--xr-font-color2);\n",
       "}\n",
       "\n",
       ".xr-section-summary-in + label:before {\n",
       "  display: inline-block;\n",
       "  content: '►';\n",
       "  font-size: 11px;\n",
       "  width: 15px;\n",
       "  text-align: center;\n",
       "}\n",
       "\n",
       ".xr-section-summary-in:disabled + label:before {\n",
       "  color: var(--xr-disabled-color);\n",
       "}\n",
       "\n",
       ".xr-section-summary-in:checked + label:before {\n",
       "  content: '▼';\n",
       "}\n",
       "\n",
       ".xr-section-summary-in:checked + label > span {\n",
       "  display: none;\n",
       "}\n",
       "\n",
       ".xr-section-summary,\n",
       ".xr-section-inline-details {\n",
       "  padding-top: 4px;\n",
       "  padding-bottom: 4px;\n",
       "}\n",
       "\n",
       ".xr-section-inline-details {\n",
       "  grid-column: 2 / -1;\n",
       "}\n",
       "\n",
       ".xr-section-details {\n",
       "  display: none;\n",
       "  grid-column: 1 / -1;\n",
       "  margin-bottom: 5px;\n",
       "}\n",
       "\n",
       ".xr-section-summary-in:checked ~ .xr-section-details {\n",
       "  display: contents;\n",
       "}\n",
       "\n",
       ".xr-array-wrap {\n",
       "  grid-column: 1 / -1;\n",
       "  display: grid;\n",
       "  grid-template-columns: 20px auto;\n",
       "}\n",
       "\n",
       ".xr-array-wrap > label {\n",
       "  grid-column: 1;\n",
       "  vertical-align: top;\n",
       "}\n",
       "\n",
       ".xr-preview {\n",
       "  color: var(--xr-font-color3);\n",
       "}\n",
       "\n",
       ".xr-array-preview,\n",
       ".xr-array-data {\n",
       "  padding: 0 5px !important;\n",
       "  grid-column: 2;\n",
       "}\n",
       "\n",
       ".xr-array-data,\n",
       ".xr-array-in:checked ~ .xr-array-preview {\n",
       "  display: none;\n",
       "}\n",
       "\n",
       ".xr-array-in:checked ~ .xr-array-data,\n",
       ".xr-array-preview {\n",
       "  display: inline-block;\n",
       "}\n",
       "\n",
       ".xr-dim-list {\n",
       "  display: inline-block !important;\n",
       "  list-style: none;\n",
       "  padding: 0 !important;\n",
       "  margin: 0;\n",
       "}\n",
       "\n",
       ".xr-dim-list li {\n",
       "  display: inline-block;\n",
       "  padding: 0;\n",
       "  margin: 0;\n",
       "}\n",
       "\n",
       ".xr-dim-list:before {\n",
       "  content: '(';\n",
       "}\n",
       "\n",
       ".xr-dim-list:after {\n",
       "  content: ')';\n",
       "}\n",
       "\n",
       ".xr-dim-list li:not(:last-child):after {\n",
       "  content: ',';\n",
       "  padding-right: 5px;\n",
       "}\n",
       "\n",
       ".xr-has-index {\n",
       "  font-weight: bold;\n",
       "}\n",
       "\n",
       ".xr-var-list,\n",
       ".xr-var-item {\n",
       "  display: contents;\n",
       "}\n",
       "\n",
       ".xr-var-item > div,\n",
       ".xr-var-item label,\n",
       ".xr-var-item > .xr-var-name span {\n",
       "  background-color: var(--xr-background-color-row-even);\n",
       "  margin-bottom: 0;\n",
       "}\n",
       "\n",
       ".xr-var-item > .xr-var-name:hover span {\n",
       "  padding-right: 5px;\n",
       "}\n",
       "\n",
       ".xr-var-list > li:nth-child(odd) > div,\n",
       ".xr-var-list > li:nth-child(odd) > label,\n",
       ".xr-var-list > li:nth-child(odd) > .xr-var-name span {\n",
       "  background-color: var(--xr-background-color-row-odd);\n",
       "}\n",
       "\n",
       ".xr-var-name {\n",
       "  grid-column: 1;\n",
       "}\n",
       "\n",
       ".xr-var-dims {\n",
       "  grid-column: 2;\n",
       "}\n",
       "\n",
       ".xr-var-dtype {\n",
       "  grid-column: 3;\n",
       "  text-align: right;\n",
       "  color: var(--xr-font-color2);\n",
       "}\n",
       "\n",
       ".xr-var-preview {\n",
       "  grid-column: 4;\n",
       "}\n",
       "\n",
       ".xr-var-name,\n",
       ".xr-var-dims,\n",
       ".xr-var-dtype,\n",
       ".xr-preview,\n",
       ".xr-attrs dt {\n",
       "  white-space: nowrap;\n",
       "  overflow: hidden;\n",
       "  text-overflow: ellipsis;\n",
       "  padding-right: 10px;\n",
       "}\n",
       "\n",
       ".xr-var-name:hover,\n",
       ".xr-var-dims:hover,\n",
       ".xr-var-dtype:hover,\n",
       ".xr-attrs dt:hover {\n",
       "  overflow: visible;\n",
       "  width: auto;\n",
       "  z-index: 1;\n",
       "}\n",
       "\n",
       ".xr-var-attrs,\n",
       ".xr-var-data {\n",
       "  display: none;\n",
       "  background-color: var(--xr-background-color) !important;\n",
       "  padding-bottom: 5px !important;\n",
       "}\n",
       "\n",
       ".xr-var-attrs-in:checked ~ .xr-var-attrs,\n",
       ".xr-var-data-in:checked ~ .xr-var-data {\n",
       "  display: block;\n",
       "}\n",
       "\n",
       ".xr-var-data > table {\n",
       "  float: right;\n",
       "}\n",
       "\n",
       ".xr-var-name span,\n",
       ".xr-var-data,\n",
       ".xr-attrs {\n",
       "  padding-left: 25px !important;\n",
       "}\n",
       "\n",
       ".xr-attrs,\n",
       ".xr-var-attrs,\n",
       ".xr-var-data {\n",
       "  grid-column: 1 / -1;\n",
       "}\n",
       "\n",
       "dl.xr-attrs {\n",
       "  padding: 0;\n",
       "  margin: 0;\n",
       "  display: grid;\n",
       "  grid-template-columns: 125px auto;\n",
       "}\n",
       "\n",
       ".xr-attrs dt,\n",
       ".xr-attrs dd {\n",
       "  padding: 0;\n",
       "  margin: 0;\n",
       "  float: left;\n",
       "  padding-right: 10px;\n",
       "  width: auto;\n",
       "}\n",
       "\n",
       ".xr-attrs dt {\n",
       "  font-weight: normal;\n",
       "  grid-column: 1;\n",
       "}\n",
       "\n",
       ".xr-attrs dt:hover span {\n",
       "  display: inline-block;\n",
       "  background: var(--xr-background-color);\n",
       "  padding-right: 10px;\n",
       "}\n",
       "\n",
       ".xr-attrs dd {\n",
       "  grid-column: 2;\n",
       "  white-space: pre-wrap;\n",
       "  word-break: break-all;\n",
       "}\n",
       "\n",
       ".xr-icon-database,\n",
       ".xr-icon-file-text2 {\n",
       "  display: inline-block;\n",
       "  vertical-align: middle;\n",
       "  width: 1em;\n",
       "  height: 1.5em !important;\n",
       "  stroke-width: 0;\n",
       "  stroke: currentColor;\n",
       "  fill: currentColor;\n",
       "}\n",
       "</style><pre class='xr-text-repr-fallback'>&lt;xarray.DataArray &#x27;lat&#x27; (nj: 104, ni: 320)&gt;\n",
       "dask.array&lt;where, shape=(104, 320), dtype=float32, chunksize=(104, 320), chunktype=numpy.ndarray&gt;\n",
       "Coordinates:\n",
       "    lon      (nj, ni) float32 dask.array&lt;chunksize=(104, 320), meta=np.ndarray&gt;\n",
       "    lat      (nj, ni) float32 dask.array&lt;chunksize=(104, 320), meta=np.ndarray&gt;\n",
       "    ULON     (nj, ni) float32 dask.array&lt;chunksize=(104, 320), meta=np.ndarray&gt;\n",
       "    ULAT     (nj, ni) float32 dask.array&lt;chunksize=(104, 320), meta=np.ndarray&gt;\n",
       "Dimensions without coordinates: nj, ni\n",
       "Attributes:\n",
       "    long_name:  T grid center latitude\n",
       "    units:      degrees_north\n",
       "    bounds:     latt_bounds</pre><div class='xr-wrap' style='display:none'><div class='xr-header'><div class='xr-obj-type'>xarray.DataArray</div><div class='xr-array-name'>'lat'</div><ul class='xr-dim-list'><li><span>nj</span>: 104</li><li><span>ni</span>: 320</li></ul></div><ul class='xr-sections'><li class='xr-section-item'><div class='xr-array-wrap'><input id='section-174cf13e-0f45-4236-bbf3-d2b9e3b7910b' class='xr-array-in' type='checkbox' checked><label for='section-174cf13e-0f45-4236-bbf3-d2b9e3b7910b' title='Show/hide data repr'><svg class='icon xr-icon-database'><use xlink:href='#icon-database'></use></svg></label><div class='xr-array-preview xr-preview'><span>dask.array&lt;chunksize=(104, 320), meta=np.ndarray&gt;</span></div><div class='xr-array-data'><table>\n",
       "    <tr>\n",
       "        <td>\n",
       "            <table>\n",
       "                <thead>\n",
       "                    <tr>\n",
       "                        <td> </td>\n",
       "                        <th> Array </th>\n",
       "                        <th> Chunk </th>\n",
       "                    </tr>\n",
       "                </thead>\n",
       "                <tbody>\n",
       "                    \n",
       "                    <tr>\n",
       "                        <th> Bytes </th>\n",
       "                        <td> 130.00 kiB </td>\n",
       "                        <td> 130.00 kiB </td>\n",
       "                    </tr>\n",
       "                    \n",
       "                    <tr>\n",
       "                        <th> Shape </th>\n",
       "                        <td> (104, 320) </td>\n",
       "                        <td> (104, 320) </td>\n",
       "                    </tr>\n",
       "                    <tr>\n",
       "                        <th> Count </th>\n",
       "                        <td> 5 Tasks </td>\n",
       "                        <td> 1 Chunks </td>\n",
       "                    </tr>\n",
       "                    <tr>\n",
       "                    <th> Type </th>\n",
       "                    <td> float32 </td>\n",
       "                    <td> numpy.ndarray </td>\n",
       "                    </tr>\n",
       "                </tbody>\n",
       "            </table>\n",
       "        </td>\n",
       "        <td>\n",
       "        <svg width=\"170\" height=\"93\" style=\"stroke:rgb(0,0,0);stroke-width:1\" >\n",
       "\n",
       "  <!-- Horizontal lines -->\n",
       "  <line x1=\"0\" y1=\"0\" x2=\"120\" y2=\"0\" style=\"stroke-width:2\" />\n",
       "  <line x1=\"0\" y1=\"43\" x2=\"120\" y2=\"43\" style=\"stroke-width:2\" />\n",
       "\n",
       "  <!-- Vertical lines -->\n",
       "  <line x1=\"0\" y1=\"0\" x2=\"0\" y2=\"43\" style=\"stroke-width:2\" />\n",
       "  <line x1=\"120\" y1=\"0\" x2=\"120\" y2=\"43\" style=\"stroke-width:2\" />\n",
       "\n",
       "  <!-- Colored Rectangle -->\n",
       "  <polygon points=\"0.0,0.0 120.0,0.0 120.0,43.806011083669205 0.0,43.806011083669205\" style=\"fill:#ECB172A0;stroke-width:0\"/>\n",
       "\n",
       "  <!-- Text -->\n",
       "  <text x=\"60.000000\" y=\"63.806011\" font-size=\"1.0rem\" font-weight=\"100\" text-anchor=\"middle\" >320</text>\n",
       "  <text x=\"140.000000\" y=\"21.903006\" font-size=\"1.0rem\" font-weight=\"100\" text-anchor=\"middle\" transform=\"rotate(-90,140.000000,21.903006)\">104</text>\n",
       "</svg>\n",
       "        </td>\n",
       "    </tr>\n",
       "</table></div></div></li><li class='xr-section-item'><input id='section-970a10bf-2481-4775-aa6e-8e13e783bdaf' class='xr-section-summary-in' type='checkbox'  checked><label for='section-970a10bf-2481-4775-aa6e-8e13e783bdaf' class='xr-section-summary' >Coordinates: <span>(4)</span></label><div class='xr-section-inline-details'></div><div class='xr-section-details'><ul class='xr-var-list'><li class='xr-var-item'><div class='xr-var-name'><span>lon</span></div><div class='xr-var-dims'>(nj, ni)</div><div class='xr-var-dtype'>float32</div><div class='xr-var-preview xr-preview'>dask.array&lt;chunksize=(104, 320), meta=np.ndarray&gt;</div><input id='attrs-3e694991-1248-493d-8010-6f82f8bda2aa' class='xr-var-attrs-in' type='checkbox' ><label for='attrs-3e694991-1248-493d-8010-6f82f8bda2aa' title='Show/Hide attributes'><svg class='icon xr-icon-file-text2'><use xlink:href='#icon-file-text2'></use></svg></label><input id='data-366f6b4f-7880-4d8e-ab8c-396958f733f9' class='xr-var-data-in' type='checkbox'><label for='data-366f6b4f-7880-4d8e-ab8c-396958f733f9' title='Show/Hide data repr'><svg class='icon xr-icon-database'><use xlink:href='#icon-database'></use></svg></label><div class='xr-var-attrs'><dl class='xr-attrs'><dt><span>long_name :</span></dt><dd>T grid center longitude</dd><dt><span>units :</span></dt><dd>degrees_east</dd><dt><span>bounds :</span></dt><dd>lont_bounds</dd></dl></div><div class='xr-var-data'><table>\n",
       "    <tr>\n",
       "        <td>\n",
       "            <table>\n",
       "                <thead>\n",
       "                    <tr>\n",
       "                        <td> </td>\n",
       "                        <th> Array </th>\n",
       "                        <th> Chunk </th>\n",
       "                    </tr>\n",
       "                </thead>\n",
       "                <tbody>\n",
       "                    \n",
       "                    <tr>\n",
       "                        <th> Bytes </th>\n",
       "                        <td> 130.00 kiB </td>\n",
       "                        <td> 130.00 kiB </td>\n",
       "                    </tr>\n",
       "                    \n",
       "                    <tr>\n",
       "                        <th> Shape </th>\n",
       "                        <td> (104, 320) </td>\n",
       "                        <td> (104, 320) </td>\n",
       "                    </tr>\n",
       "                    <tr>\n",
       "                        <th> Count </th>\n",
       "                        <td> 5 Tasks </td>\n",
       "                        <td> 1 Chunks </td>\n",
       "                    </tr>\n",
       "                    <tr>\n",
       "                    <th> Type </th>\n",
       "                    <td> float32 </td>\n",
       "                    <td> numpy.ndarray </td>\n",
       "                    </tr>\n",
       "                </tbody>\n",
       "            </table>\n",
       "        </td>\n",
       "        <td>\n",
       "        <svg width=\"170\" height=\"93\" style=\"stroke:rgb(0,0,0);stroke-width:1\" >\n",
       "\n",
       "  <!-- Horizontal lines -->\n",
       "  <line x1=\"0\" y1=\"0\" x2=\"120\" y2=\"0\" style=\"stroke-width:2\" />\n",
       "  <line x1=\"0\" y1=\"43\" x2=\"120\" y2=\"43\" style=\"stroke-width:2\" />\n",
       "\n",
       "  <!-- Vertical lines -->\n",
       "  <line x1=\"0\" y1=\"0\" x2=\"0\" y2=\"43\" style=\"stroke-width:2\" />\n",
       "  <line x1=\"120\" y1=\"0\" x2=\"120\" y2=\"43\" style=\"stroke-width:2\" />\n",
       "\n",
       "  <!-- Colored Rectangle -->\n",
       "  <polygon points=\"0.0,0.0 120.0,0.0 120.0,43.806011083669205 0.0,43.806011083669205\" style=\"fill:#ECB172A0;stroke-width:0\"/>\n",
       "\n",
       "  <!-- Text -->\n",
       "  <text x=\"60.000000\" y=\"63.806011\" font-size=\"1.0rem\" font-weight=\"100\" text-anchor=\"middle\" >320</text>\n",
       "  <text x=\"140.000000\" y=\"21.903006\" font-size=\"1.0rem\" font-weight=\"100\" text-anchor=\"middle\" transform=\"rotate(-90,140.000000,21.903006)\">104</text>\n",
       "</svg>\n",
       "        </td>\n",
       "    </tr>\n",
       "</table></div></li><li class='xr-var-item'><div class='xr-var-name'><span>lat</span></div><div class='xr-var-dims'>(nj, ni)</div><div class='xr-var-dtype'>float32</div><div class='xr-var-preview xr-preview'>dask.array&lt;chunksize=(104, 320), meta=np.ndarray&gt;</div><input id='attrs-0477dbc4-b1a3-4822-b719-e7e243af7026' class='xr-var-attrs-in' type='checkbox' ><label for='attrs-0477dbc4-b1a3-4822-b719-e7e243af7026' title='Show/Hide attributes'><svg class='icon xr-icon-file-text2'><use xlink:href='#icon-file-text2'></use></svg></label><input id='data-d3fbd3da-5655-42a6-b138-b5a47799f4db' class='xr-var-data-in' type='checkbox'><label for='data-d3fbd3da-5655-42a6-b138-b5a47799f4db' title='Show/Hide data repr'><svg class='icon xr-icon-database'><use xlink:href='#icon-database'></use></svg></label><div class='xr-var-attrs'><dl class='xr-attrs'><dt><span>long_name :</span></dt><dd>T grid center latitude</dd><dt><span>units :</span></dt><dd>degrees_north</dd><dt><span>bounds :</span></dt><dd>latt_bounds</dd></dl></div><div class='xr-var-data'><table>\n",
       "    <tr>\n",
       "        <td>\n",
       "            <table>\n",
       "                <thead>\n",
       "                    <tr>\n",
       "                        <td> </td>\n",
       "                        <th> Array </th>\n",
       "                        <th> Chunk </th>\n",
       "                    </tr>\n",
       "                </thead>\n",
       "                <tbody>\n",
       "                    \n",
       "                    <tr>\n",
       "                        <th> Bytes </th>\n",
       "                        <td> 130.00 kiB </td>\n",
       "                        <td> 130.00 kiB </td>\n",
       "                    </tr>\n",
       "                    \n",
       "                    <tr>\n",
       "                        <th> Shape </th>\n",
       "                        <td> (104, 320) </td>\n",
       "                        <td> (104, 320) </td>\n",
       "                    </tr>\n",
       "                    <tr>\n",
       "                        <th> Count </th>\n",
       "                        <td> 5 Tasks </td>\n",
       "                        <td> 1 Chunks </td>\n",
       "                    </tr>\n",
       "                    <tr>\n",
       "                    <th> Type </th>\n",
       "                    <td> float32 </td>\n",
       "                    <td> numpy.ndarray </td>\n",
       "                    </tr>\n",
       "                </tbody>\n",
       "            </table>\n",
       "        </td>\n",
       "        <td>\n",
       "        <svg width=\"170\" height=\"93\" style=\"stroke:rgb(0,0,0);stroke-width:1\" >\n",
       "\n",
       "  <!-- Horizontal lines -->\n",
       "  <line x1=\"0\" y1=\"0\" x2=\"120\" y2=\"0\" style=\"stroke-width:2\" />\n",
       "  <line x1=\"0\" y1=\"43\" x2=\"120\" y2=\"43\" style=\"stroke-width:2\" />\n",
       "\n",
       "  <!-- Vertical lines -->\n",
       "  <line x1=\"0\" y1=\"0\" x2=\"0\" y2=\"43\" style=\"stroke-width:2\" />\n",
       "  <line x1=\"120\" y1=\"0\" x2=\"120\" y2=\"43\" style=\"stroke-width:2\" />\n",
       "\n",
       "  <!-- Colored Rectangle -->\n",
       "  <polygon points=\"0.0,0.0 120.0,0.0 120.0,43.806011083669205 0.0,43.806011083669205\" style=\"fill:#ECB172A0;stroke-width:0\"/>\n",
       "\n",
       "  <!-- Text -->\n",
       "  <text x=\"60.000000\" y=\"63.806011\" font-size=\"1.0rem\" font-weight=\"100\" text-anchor=\"middle\" >320</text>\n",
       "  <text x=\"140.000000\" y=\"21.903006\" font-size=\"1.0rem\" font-weight=\"100\" text-anchor=\"middle\" transform=\"rotate(-90,140.000000,21.903006)\">104</text>\n",
       "</svg>\n",
       "        </td>\n",
       "    </tr>\n",
       "</table></div></li><li class='xr-var-item'><div class='xr-var-name'><span>ULON</span></div><div class='xr-var-dims'>(nj, ni)</div><div class='xr-var-dtype'>float32</div><div class='xr-var-preview xr-preview'>dask.array&lt;chunksize=(104, 320), meta=np.ndarray&gt;</div><input id='attrs-c73c4021-e8d7-406f-81a7-28bfc7274276' class='xr-var-attrs-in' type='checkbox' ><label for='attrs-c73c4021-e8d7-406f-81a7-28bfc7274276' title='Show/Hide attributes'><svg class='icon xr-icon-file-text2'><use xlink:href='#icon-file-text2'></use></svg></label><input id='data-f7690a39-39c0-4a54-b5d9-c3ce752e8e6a' class='xr-var-data-in' type='checkbox'><label for='data-f7690a39-39c0-4a54-b5d9-c3ce752e8e6a' title='Show/Hide data repr'><svg class='icon xr-icon-database'><use xlink:href='#icon-database'></use></svg></label><div class='xr-var-attrs'><dl class='xr-attrs'><dt><span>long_name :</span></dt><dd>U grid center longitude</dd><dt><span>units :</span></dt><dd>degrees_east</dd><dt><span>bounds :</span></dt><dd>lonu_bounds</dd></dl></div><div class='xr-var-data'><table>\n",
       "    <tr>\n",
       "        <td>\n",
       "            <table>\n",
       "                <thead>\n",
       "                    <tr>\n",
       "                        <td> </td>\n",
       "                        <th> Array </th>\n",
       "                        <th> Chunk </th>\n",
       "                    </tr>\n",
       "                </thead>\n",
       "                <tbody>\n",
       "                    \n",
       "                    <tr>\n",
       "                        <th> Bytes </th>\n",
       "                        <td> 130.00 kiB </td>\n",
       "                        <td> 130.00 kiB </td>\n",
       "                    </tr>\n",
       "                    \n",
       "                    <tr>\n",
       "                        <th> Shape </th>\n",
       "                        <td> (104, 320) </td>\n",
       "                        <td> (104, 320) </td>\n",
       "                    </tr>\n",
       "                    <tr>\n",
       "                        <th> Count </th>\n",
       "                        <td> 5 Tasks </td>\n",
       "                        <td> 1 Chunks </td>\n",
       "                    </tr>\n",
       "                    <tr>\n",
       "                    <th> Type </th>\n",
       "                    <td> float32 </td>\n",
       "                    <td> numpy.ndarray </td>\n",
       "                    </tr>\n",
       "                </tbody>\n",
       "            </table>\n",
       "        </td>\n",
       "        <td>\n",
       "        <svg width=\"170\" height=\"93\" style=\"stroke:rgb(0,0,0);stroke-width:1\" >\n",
       "\n",
       "  <!-- Horizontal lines -->\n",
       "  <line x1=\"0\" y1=\"0\" x2=\"120\" y2=\"0\" style=\"stroke-width:2\" />\n",
       "  <line x1=\"0\" y1=\"43\" x2=\"120\" y2=\"43\" style=\"stroke-width:2\" />\n",
       "\n",
       "  <!-- Vertical lines -->\n",
       "  <line x1=\"0\" y1=\"0\" x2=\"0\" y2=\"43\" style=\"stroke-width:2\" />\n",
       "  <line x1=\"120\" y1=\"0\" x2=\"120\" y2=\"43\" style=\"stroke-width:2\" />\n",
       "\n",
       "  <!-- Colored Rectangle -->\n",
       "  <polygon points=\"0.0,0.0 120.0,0.0 120.0,43.806011083669205 0.0,43.806011083669205\" style=\"fill:#ECB172A0;stroke-width:0\"/>\n",
       "\n",
       "  <!-- Text -->\n",
       "  <text x=\"60.000000\" y=\"63.806011\" font-size=\"1.0rem\" font-weight=\"100\" text-anchor=\"middle\" >320</text>\n",
       "  <text x=\"140.000000\" y=\"21.903006\" font-size=\"1.0rem\" font-weight=\"100\" text-anchor=\"middle\" transform=\"rotate(-90,140.000000,21.903006)\">104</text>\n",
       "</svg>\n",
       "        </td>\n",
       "    </tr>\n",
       "</table></div></li><li class='xr-var-item'><div class='xr-var-name'><span>ULAT</span></div><div class='xr-var-dims'>(nj, ni)</div><div class='xr-var-dtype'>float32</div><div class='xr-var-preview xr-preview'>dask.array&lt;chunksize=(104, 320), meta=np.ndarray&gt;</div><input id='attrs-633227f5-cb0e-4133-bc94-d4df2c6fa1b5' class='xr-var-attrs-in' type='checkbox' ><label for='attrs-633227f5-cb0e-4133-bc94-d4df2c6fa1b5' title='Show/Hide attributes'><svg class='icon xr-icon-file-text2'><use xlink:href='#icon-file-text2'></use></svg></label><input id='data-0be0c37e-3a3a-4c47-98c5-f5910cb0f466' class='xr-var-data-in' type='checkbox'><label for='data-0be0c37e-3a3a-4c47-98c5-f5910cb0f466' title='Show/Hide data repr'><svg class='icon xr-icon-database'><use xlink:href='#icon-database'></use></svg></label><div class='xr-var-attrs'><dl class='xr-attrs'><dt><span>long_name :</span></dt><dd>U grid center latitude</dd><dt><span>units :</span></dt><dd>degrees_north</dd><dt><span>comment :</span></dt><dd>Latitude of NE corner of T grid cell</dd><dt><span>bounds :</span></dt><dd>latu_bounds</dd></dl></div><div class='xr-var-data'><table>\n",
       "    <tr>\n",
       "        <td>\n",
       "            <table>\n",
       "                <thead>\n",
       "                    <tr>\n",
       "                        <td> </td>\n",
       "                        <th> Array </th>\n",
       "                        <th> Chunk </th>\n",
       "                    </tr>\n",
       "                </thead>\n",
       "                <tbody>\n",
       "                    \n",
       "                    <tr>\n",
       "                        <th> Bytes </th>\n",
       "                        <td> 130.00 kiB </td>\n",
       "                        <td> 130.00 kiB </td>\n",
       "                    </tr>\n",
       "                    \n",
       "                    <tr>\n",
       "                        <th> Shape </th>\n",
       "                        <td> (104, 320) </td>\n",
       "                        <td> (104, 320) </td>\n",
       "                    </tr>\n",
       "                    <tr>\n",
       "                        <th> Count </th>\n",
       "                        <td> 5 Tasks </td>\n",
       "                        <td> 1 Chunks </td>\n",
       "                    </tr>\n",
       "                    <tr>\n",
       "                    <th> Type </th>\n",
       "                    <td> float32 </td>\n",
       "                    <td> numpy.ndarray </td>\n",
       "                    </tr>\n",
       "                </tbody>\n",
       "            </table>\n",
       "        </td>\n",
       "        <td>\n",
       "        <svg width=\"170\" height=\"93\" style=\"stroke:rgb(0,0,0);stroke-width:1\" >\n",
       "\n",
       "  <!-- Horizontal lines -->\n",
       "  <line x1=\"0\" y1=\"0\" x2=\"120\" y2=\"0\" style=\"stroke-width:2\" />\n",
       "  <line x1=\"0\" y1=\"43\" x2=\"120\" y2=\"43\" style=\"stroke-width:2\" />\n",
       "\n",
       "  <!-- Vertical lines -->\n",
       "  <line x1=\"0\" y1=\"0\" x2=\"0\" y2=\"43\" style=\"stroke-width:2\" />\n",
       "  <line x1=\"120\" y1=\"0\" x2=\"120\" y2=\"43\" style=\"stroke-width:2\" />\n",
       "\n",
       "  <!-- Colored Rectangle -->\n",
       "  <polygon points=\"0.0,0.0 120.0,0.0 120.0,43.806011083669205 0.0,43.806011083669205\" style=\"fill:#ECB172A0;stroke-width:0\"/>\n",
       "\n",
       "  <!-- Text -->\n",
       "  <text x=\"60.000000\" y=\"63.806011\" font-size=\"1.0rem\" font-weight=\"100\" text-anchor=\"middle\" >320</text>\n",
       "  <text x=\"140.000000\" y=\"21.903006\" font-size=\"1.0rem\" font-weight=\"100\" text-anchor=\"middle\" transform=\"rotate(-90,140.000000,21.903006)\">104</text>\n",
       "</svg>\n",
       "        </td>\n",
       "    </tr>\n",
       "</table></div></li></ul></div></li><li class='xr-section-item'><input id='section-ffdc2e86-ed60-4970-8305-e5a0c24d0dfa' class='xr-section-summary-in' type='checkbox'  checked><label for='section-ffdc2e86-ed60-4970-8305-e5a0c24d0dfa' class='xr-section-summary' >Attributes: <span>(3)</span></label><div class='xr-section-inline-details'></div><div class='xr-section-details'><dl class='xr-attrs'><dt><span>long_name :</span></dt><dd>T grid center latitude</dd><dt><span>units :</span></dt><dd>degrees_north</dd><dt><span>bounds :</span></dt><dd>latt_bounds</dd></dl></div></li></ul></div></div>"
      ],
      "text/plain": [
       "<xarray.DataArray 'lat' (nj: 104, ni: 320)>\n",
       "dask.array<where, shape=(104, 320), dtype=float32, chunksize=(104, 320), chunktype=numpy.ndarray>\n",
       "Coordinates:\n",
       "    lon      (nj, ni) float32 dask.array<chunksize=(104, 320), meta=np.ndarray>\n",
       "    lat      (nj, ni) float32 dask.array<chunksize=(104, 320), meta=np.ndarray>\n",
       "    ULON     (nj, ni) float32 dask.array<chunksize=(104, 320), meta=np.ndarray>\n",
       "    ULAT     (nj, ni) float32 dask.array<chunksize=(104, 320), meta=np.ndarray>\n",
       "Dimensions without coordinates: nj, ni\n",
       "Attributes:\n",
       "    long_name:  T grid center latitude\n",
       "    units:      degrees_north\n",
       "    bounds:     latt_bounds"
      ]
     },
     "execution_count": 59,
     "metadata": {},
     "output_type": "execute_result"
    }
   ],
   "source": [
    "data_select.lat"
   ]
  },
  {
   "cell_type": "code",
   "execution_count": 65,
   "id": "92b75d4d-046b-4c0b-8b9d-3af0c1277863",
   "metadata": {},
   "outputs": [],
   "source": [
    "index = np.where(np.logical_and(data_select.mean(dim='time').lat == latlon[3,0], data_select.mean(dim='time').lon == latlon[3,1]))"
   ]
  },
  {
   "cell_type": "code",
   "execution_count": 77,
   "id": "0674094f-ca33-4b71-8b26-9504e4d623bc",
   "metadata": {},
   "outputs": [
    {
     "data": {
      "text/plain": [
       "3"
      ]
     },
     "execution_count": 77,
     "metadata": {},
     "output_type": "execute_result"
    }
   ],
   "source": [
    "index[1][0]"
   ]
  },
  {
   "cell_type": "code",
   "execution_count": 78,
   "id": "4b75c839-0d8b-4a32-91ef-3701b2efc6aa",
   "metadata": {},
   "outputs": [
    {
     "data": {
      "text/plain": [
       "0.0"
      ]
     },
     "execution_count": 78,
     "metadata": {},
     "output_type": "execute_result"
    }
   ],
   "source": [
    "float(data_select.mean(dim='time').isel(nj=index[0][0]).isel(ni=index[1][0]))"
   ]
  },
  {
   "cell_type": "code",
   "execution_count": 72,
   "id": "75c2a9b7-1cfd-4d9c-af21-fab1ba231212",
   "metadata": {},
   "outputs": [
    {
     "data": {
      "text/plain": [
       "array([ 30.38473511, 323.90548706])"
      ]
     },
     "execution_count": 72,
     "metadata": {},
     "output_type": "execute_result"
    }
   ],
   "source": [
    "latlon[3]"
   ]
  },
  {
   "cell_type": "code",
   "execution_count": 42,
   "id": "a92dde5c-769b-49ac-8aa0-b05ca12dab73",
   "metadata": {},
   "outputs": [],
   "source": [
    "test_point = [80, 80]"
   ]
  },
  {
   "cell_type": "code",
   "execution_count": 43,
   "id": "7f266625-2f0b-4fea-86f0-986b575944d2",
   "metadata": {},
   "outputs": [],
   "source": [
    "distance, index = spatial.KDTree(latlon).query(test_point)"
   ]
  },
  {
   "cell_type": "code",
   "execution_count": 44,
   "id": "b3f534bd-5fe9-415b-adb2-db06588e71bf",
   "metadata": {},
   "outputs": [
    {
     "name": "stdout",
     "output_type": "stream",
     "text": [
      "0.9475614319981639\n",
      "24449\n"
     ]
    }
   ],
   "source": [
    "print(distance)\n",
    "print(index)"
   ]
  },
  {
   "cell_type": "code",
   "execution_count": 45,
   "id": "6b5f640b-7b05-44a2-a402-0dfc62739292",
   "metadata": {},
   "outputs": [
    {
     "data": {
      "text/plain": [
       "array([80.87691498, 80.35901642])"
      ]
     },
     "execution_count": 45,
     "metadata": {},
     "output_type": "execute_result"
    }
   ],
   "source": [
    "latlon[index]"
   ]
  },
  {
   "cell_type": "code",
   "execution_count": 35,
   "id": "1d1d69a8-26ca-421c-b0e2-923f47aaab50",
   "metadata": {},
   "outputs": [],
   "source": [
    "ids = np.where(np.logical_and(latlon[:,0] > 43, latlon[:,0] < 47))"
   ]
  },
  {
   "cell_type": "code",
   "execution_count": 36,
   "id": "974e0b7a-c20d-493e-8fb8-836adb1df6b6",
   "metadata": {},
   "outputs": [
    {
     "data": {
      "text/plain": [
       "array([[ 43.00987625, 123.33024597],\n",
       "       [ 43.0283699 , 124.47899628],\n",
       "       [ 43.04557419, 125.62792969],\n",
       "       ...,\n",
       "       [ 46.94944   , 317.31945801],\n",
       "       [ 46.94430161, 318.39169312],\n",
       "       [ 46.94173431, 319.46389771]])"
      ]
     },
     "execution_count": 36,
     "metadata": {},
     "output_type": "execute_result"
    }
   ],
   "source": [
    "latlon[ids]"
   ]
  },
  {
   "cell_type": "raw",
   "id": "3909860f-038a-4937-a4dd-68b5b6769406",
   "metadata": {},
   "source": [
    "# create new target grid\n",
    "lat = np.arange(0.4, 90, 0.5)\n",
    "lon = np.arange(0.0, 361.0, 1.0)\n",
    "lon2d, lat2d = np.meshgrid(lon, lat)\n",
    "target_grid = xr.Dataset({'lat': (['y', 'x'], lat2d),'lon': (['y', 'x'], lon2d)})"
   ]
  },
  {
   "cell_type": "code",
   "execution_count": 66,
   "id": "3526a924-cf3e-41d0-9619-174e387a97fb",
   "metadata": {},
   "outputs": [],
   "source": [
    "target_grid = xe.util.grid_2d(-180, 180, 1, 0, 90, 0.5)"
   ]
  },
  {
   "cell_type": "code",
   "execution_count": 67,
   "id": "63017c46-bcc1-4d1f-b0a7-0253a03494af",
   "metadata": {},
   "outputs": [
    {
     "name": "stderr",
     "output_type": "stream",
     "text": [
      "/glade/work/eperkins/miniconda3/envs/analysis3/lib/python3.7/site-packages/dask/array/core.py:450: FutureWarning: elementwise comparison failed; returning scalar instead, but in the future will perform elementwise comparison\n",
      "  o = func(*args, **kwargs)\n"
     ]
    }
   ],
   "source": [
    "#create map\n",
    "regridder = xe.Regridder(data_select, target_grid, 'nearest_s2d', periodic=True, reuse_weights=False)\n",
    "\n",
    "#perform regridding\n",
    "data_select = regridder(data_select)"
   ]
  },
  {
   "cell_type": "code",
   "execution_count": 9,
   "id": "04e031e0-7352-4b9b-84d7-90077ba16ec1",
   "metadata": {},
   "outputs": [],
   "source": [
    "data_avg = data_select.mean(dim='time')"
   ]
  },
  {
   "cell_type": "code",
   "execution_count": 10,
   "id": "a0e2630d-066c-4ad5-9b98-b99080d86342",
   "metadata": {},
   "outputs": [
    {
     "name": "stdout",
     "output_type": "stream",
     "text": [
      "<xarray.DataArray (y: 180, x: 360)>\n",
      "dask.array<mean_agg-aggregate, shape=(180, 360), dtype=float32, chunksize=(180, 360), chunktype=numpy.ndarray>\n",
      "Coordinates:\n",
      "    lon      (y, x) float64 -179.5 -178.5 -177.5 -176.5 ... 177.5 178.5 179.5\n",
      "    lat      (y, x) float64 0.25 0.25 0.25 0.25 0.25 ... 89.75 89.75 89.75 89.75\n",
      "Dimensions without coordinates: y, x\n"
     ]
    }
   ],
   "source": [
    "print(data_avg)"
   ]
  },
  {
   "cell_type": "code",
   "execution_count": 11,
   "id": "95f26cf6-1bac-4b4f-85f1-80a47527e7d3",
   "metadata": {},
   "outputs": [
    {
     "data": {
      "text/plain": [
       "<cartopy.mpl.feature_artist.FeatureArtist at 0x2ad051818290>"
      ]
     },
     "execution_count": 11,
     "metadata": {},
     "output_type": "execute_result"
    },
    {
     "data": {
      "image/png": "[encoded data removed]",
      "text/plain": [
       "<Figure size 864x288 with 2 Axes>"
      ]
     },
     "metadata": {
      "needs_background": "light"
     },
     "output_type": "display_data"
    }
   ],
   "source": [
    "plt.figure(figsize=(12, 4))\n",
    "ax = plt.axes(projection=ccrs.PlateCarree())\n",
    "data_avg.plot.pcolormesh(ax=ax, x=\"lon\", y=\"lat\")\n",
    "ax.coastlines()"
   ]
  },
  {
   "cell_type": "code",
   "execution_count": null,
   "id": "64612c0c-e986-416a-a734-a03f82c84d22",
   "metadata": {},
   "outputs": [],
   "source": [
    "float(data_avg.isel(y=179).isel(x=50))"
   ]
  },
  {
   "cell_type": "markdown",
   "id": "11e146af-a9b9-4e87-bdb6-880f5164e6b4",
   "metadata": {
    "tags": []
   },
   "source": [
    "### Select Area of Interest"
   ]
  },
  {
   "cell_type": "code",
   "execution_count": 12,
   "id": "e8a167d9-80e9-4019-912a-209ae88e2674",
   "metadata": {
    "tags": []
   },
   "outputs": [],
   "source": [
    "# determine variable names\n",
    "lat_var = 'lat'  # name of latitude variable for original data\n",
    "lon_var = 'lon'  # name of longitude variable for original data\n",
    "\n",
    "# rename lat lon variables to all be lat lon\n",
    "data_select = data_select.rename({lat_var: 'lat', lon_var: 'lon'})\n",
    "\n",
    "# sort by latitude:\n",
    "data_select = data_select.sortby('lat')\n",
    "\n",
    "lon_type = 'long3'  # longitude coordinate type: long1 (-180 - 180) or long 3 (0 - 360)\n",
    "if lon_type == 'long3':\n",
    "    lon_new = (data_select.lon + 180) % 360 - 180\n",
    "    data_select['lon'] = lon_new\n",
    "data_select = data_select.sortby('lon')\n",
    "\n",
    "# select input area from left to right / west to east:\n",
    "lat_min = 50  # minimum latitude\n",
    "lat_max = 90  # maximum latitude\n",
    "lon_min = 0  # minimum longitude\n",
    "lon_max = 40  # maximum longitude\n",
    "\n",
    "if lon_min < lon_max:\n",
    "    data_select = data_select.sel(lat=slice(lat_min, lat_max), lon=slice(lon_min, lon_max))\n",
    "else:\n",
    "    data_select1 = data_select.sel(lat=slice(lat_min, lat_max), lon=slice(lon_min, 180))\n",
    "    data_select2 = data_select.sel(lat=slice(lat_min, lat_max), lon=slice(-180, lon_max))\n",
    "    data_select = xr.concat([data_select1, data_select2], dim='lon')\n",
    "data_select = data_select.sortby('lon')"
   ]
  },
  {
   "cell_type": "code",
   "execution_count": 13,
   "id": "43574c59-5367-4ee9-9ba5-52ed2be5d884",
   "metadata": {},
   "outputs": [
    {
     "name": "stderr",
     "output_type": "stream",
     "text": [
      "/glade/work/eperkins/miniconda3/envs/analysis3/lib/python3.7/site-packages/xarray/core/indexing.py:1227: PerformanceWarning: Slicing is producing a large chunk. To accept the large\n",
      "chunk and silence this warning, set the option\n",
      "    >>> with dask.config.set(**{'array.slicing.split_large_chunks': False}):\n",
      "    ...     array[indexer]\n",
      "\n",
      "To avoid creating the large chunks, set the option\n",
      "    >>> with dask.config.set(**{'array.slicing.split_large_chunks': True}):\n",
      "    ...     array[indexer]\n",
      "  return self.array[key]\n"
     ]
    }
   ],
   "source": [
    "data_select = data_select.isel(lon=np.arange(1, len(data_select.lon - 1)))"
   ]
  },
  {
   "cell_type": "code",
   "execution_count": 14,
   "id": "3a8c55e6-7545-45db-a0e8-ec73953e3c8a",
   "metadata": {},
   "outputs": [],
   "source": [
    "data_select_avg = data_select.mean(dim='time')"
   ]
  },
  {
   "cell_type": "markdown",
   "id": "988755ce-8004-46ec-bd56-8144d7f65fb1",
   "metadata": {},
   "source": [
    "### Standardize Time Step\n",
    "Can skip if already using the desired time step."
   ]
  },
  {
   "cell_type": "code",
   "execution_count": 11,
   "id": "f0ff57bd-05ce-497d-9623-d967c6c6b040",
   "metadata": {},
   "outputs": [
    {
     "name": "stderr",
     "output_type": "stream",
     "text": [
      "IOStream.flush timed out\n"
     ]
    },
    {
     "name": "stdout",
     "output_type": "stream",
     "text": [
      "CPU times: user 1min 42s, sys: 1.67 s, total: 1min 44s\n",
      "Wall time: 1min 42s\n"
     ]
    }
   ],
   "source": [
    "%%time\n",
    "\n",
    "analysis_time_type = '1D'  # time step for analysis (ex: 6H, 1D, 1M, 1Y, etc.)\n",
    "data_select = data_select.resample(time=analysis_time_type).mean('time')  # choose either sum.() or mean.() for accumulation or instantaneous variables respectively"
   ]
  },
  {
   "cell_type": "markdown",
   "id": "d96d49ba-d279-4401-a84e-682fa47a04dd",
   "metadata": {},
   "source": [
    "### Export Data - Long Step (6+ Hours, Run Overnight)"
   ]
  },
  {
   "cell_type": "code",
   "execution_count": 12,
   "id": "6ea4a750-456d-4161-afb1-92beb9bb66f8",
   "metadata": {},
   "outputs": [
    {
     "name": "stdout",
     "output_type": "stream",
     "text": [
      "CPU times: user 2min 9s, sys: 5min 39s, total: 7min 49s\n",
      "Wall time: 10min 19s\n"
     ]
    }
   ],
   "source": [
    "%%time\n",
    "\n",
    "outpath = '/glade/campaign/cgd/ppc/eperkins/cesm/'  # path for new observational data file\n",
    "data_name = 'cesmLE_B1850C5CN.005_hs_d_1900_2099_1D_EArctic'  # name for new data file\n",
    "\n",
    "data_select.load().to_netcdf(outpath+data_name+'.nc')"
   ]
  }
 ],
 "metadata": {
  "kernelspec": {
   "display_name": "atm_diag_env",
   "language": "python",
   "name": "atm_diag_env"
  },
  "language_info": {
   "codemirror_mode": {
    "name": "ipython",
    "version": 3
   },
   "file_extension": ".py",
   "mimetype": "text/x-python",
   "name": "python",
   "nbconvert_exporter": "python",
   "pygments_lexer": "ipython3",
   "version": "3.9.7"
  }
 },
 "nbformat": 4,
 "nbformat_minor": 5
}
