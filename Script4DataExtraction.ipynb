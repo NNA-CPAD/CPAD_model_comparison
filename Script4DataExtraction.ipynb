{
 "cells": [
  {
   "cell_type": "markdown",
   "id": "439e832a-d474-4d63-be39-af3ed0bec5f3",
   "metadata": {
    "tags": []
   },
   "source": [
    "# Script to Extract Data\n",
    "**Input Data:** Original Data  \n",
    "**Output Data:** Data for a specific variable and spatial extent  \n",
    "**Description:** Extracts data for a specific variable and spatial extent and exports them to a new file.  \n",
    "**Date:** June 2022  \n",
    "**Author:** Emma Perkins  "
   ]
  },
  {
   "cell_type": "code",
   "execution_count": 1,
   "id": "3d89de3e-5d33-47fb-9de6-3751cc553115",
   "metadata": {},
   "outputs": [],
   "source": [
    "# import relevant packages\n",
    "import xarray as xr\n",
    "import glob"
   ]
  },
  {
   "cell_type": "markdown",
   "id": "484b71df-5f1b-4073-bda7-833040074760",
   "metadata": {},
   "source": [
    "### Load Full Data"
   ]
  },
  {
   "cell_type": "code",
   "execution_count": 2,
   "id": "c2c472f7-14d4-4533-a2c3-dc77c7848b17",
   "metadata": {},
   "outputs": [],
   "source": [
    "# full data\n",
    "paths = '/glade/campaign/cesm/collections/cesmLE/CESM-CAM5-BGC-LE/lnd/proc/tseries/daily/H2OSNO/'  # change to your paths\n",
    "# names = 'e5.oper.an.sfc.128_167_2t.ll025sc.*.nc'  # change to your files\n",
    "file1 = paths+'b.e11.B1850C5CN.f09_g16.005.clm2.h1.H2OSNO.19000101-19991231.nc'\n",
    "file2 = paths+'b.e11.B1850C5CN.f09_g16.005.clm2.h1.H2OSNO.20000101-20991231.nc'\n",
    "# files = sorted(glob.glob(paths+names))\n",
    "files = [file1, file2]\n",
    "full_data = xr.open_mfdataset(files, concat_dim=None) "
   ]
  },
  {
   "cell_type": "markdown",
   "id": "655ee6a4-4af3-4abf-a6ba-12a2112d9dfc",
   "metadata": {
    "tags": []
   },
   "source": [
    "### Select Variable of Interest"
   ]
  },
  {
   "cell_type": "code",
   "execution_count": 3,
   "id": "c3a0cbe0-a2a4-446c-bb16-109b633955d9",
   "metadata": {},
   "outputs": [],
   "source": [
    "data_var = 'H2OSNO'  # change to variable of interest from climate model data\n",
    "data_select = full_data[data_var]"
   ]
  },
  {
   "cell_type": "markdown",
   "id": "43673d6b-3252-4b2a-aa49-707d6aa1de12",
   "metadata": {
    "tags": []
   },
   "source": [
    "### Select Area of Interest"
   ]
  },
  {
   "cell_type": "code",
   "execution_count": 8,
   "id": "1dea4404-11ef-473a-87f4-21b7270ce0d5",
   "metadata": {
    "tags": []
   },
   "outputs": [
    {
     "name": "stderr",
     "output_type": "stream",
     "text": [
      "/glade/work/eperkins/miniconda3/envs/analysis3/lib/python3.7/site-packages/xarray/core/indexing.py:1227: PerformanceWarning: Slicing is producing a large chunk. To accept the large\n",
      "chunk and silence this warning, set the option\n",
      "    >>> with dask.config.set(**{'array.slicing.split_large_chunks': False}):\n",
      "    ...     array[indexer]\n",
      "\n",
      "To avoid creating the large chunks, set the option\n",
      "    >>> with dask.config.set(**{'array.slicing.split_large_chunks': True}):\n",
      "    ...     array[indexer]\n",
      "  return self.array[key]\n",
      "/glade/work/eperkins/miniconda3/envs/analysis3/lib/python3.7/site-packages/xarray/core/indexing.py:1227: PerformanceWarning: Slicing is producing a large chunk. To accept the large\n",
      "chunk and silence this warning, set the option\n",
      "    >>> with dask.config.set(**{'array.slicing.split_large_chunks': False}):\n",
      "    ...     array[indexer]\n",
      "\n",
      "To avoid creating the large chunks, set the option\n",
      "    >>> with dask.config.set(**{'array.slicing.split_large_chunks': True}):\n",
      "    ...     array[indexer]\n",
      "  return self.array[key]\n"
     ]
    }
   ],
   "source": [
    "# determine variable names\n",
    "lat_var = 'lat'  # name of latitude variable for original data\n",
    "lon_var = 'lon'  # name of longitude variable for original data\n",
    "\n",
    "# rename lat lon variables to all be lat lon\n",
    "data_select = data_select.rename({lat_var: 'lat', lon_var: 'lon'})\n",
    "\n",
    "# sort by latitude:\n",
    "data_select = data_select.sortby('lat')\n",
    "\n",
    "lon_type = 'long3'  # longitude coordinate type: long1 (-180 - 180) or long 3 (0 - 360)\n",
    "if lon_type == 'long3':\n",
    "    lon_new = (data_select.lon + 180) % 360 - 180\n",
    "    data_select['lon'] = lon_new\n",
    "data_select = data_select.sortby('lon')\n",
    "\n",
    "# select input area from left to right / west to east:\n",
    "lat_min = 50  # minimum latitude\n",
    "lat_max = 90  # maximum latitude\n",
    "lon_min = 150  # minimum longitude\n",
    "lon_max = -100  # maximum longitude\n",
    "\n",
    "if lon_min < lon_max:\n",
    "    data_select = data_select.sel(lat=slice(lat_min, lat_max), lon=slice(lon_min, lon_max))\n",
    "else:\n",
    "    data_select1 = data_select.sel(lat=slice(lat_min, lat_max), lon=slice(lon_min, 180))\n",
    "    data_select2 = data_select.sel(lat=slice(lat_min, lat_max), lon=slice(-180, lon_max))\n",
    "    data_select = xr.concat([data_select1, data_select2], dim='lon')\n",
    "data_select = data_select.sortby('lon')"
   ]
  },
  {
   "cell_type": "markdown",
   "id": "497139b7-979c-4b91-bf73-9b7589b187a8",
   "metadata": {},
   "source": [
    "### Standardize Time Step\n",
    "Can skip if already using the desired time step."
   ]
  },
  {
   "cell_type": "code",
   "execution_count": 5,
   "id": "03bb09be-a8a6-477a-9807-550b0ee6bb3f",
   "metadata": {},
   "outputs": [
    {
     "name": "stdout",
     "output_type": "stream",
     "text": [
      "CPU times: user 1min 52s, sys: 1min 6s, total: 2min 58s\n",
      "Wall time: 3min 9s\n"
     ]
    }
   ],
   "source": [
    "%%time\n",
    "\n",
    "analysis_time_type = '1D'  # time step for analysis (ex: 6H, 1D, 1M, 1Y, etc.)\n",
    "data_select = data_select.resample(time=analysis_time_type).mean('time')  # choose either sum.() or mean.() for accumulation or instantaneous variables respectively"
   ]
  },
  {
   "cell_type": "markdown",
   "id": "9dda92a4-28b4-4dff-adfa-31e0fad5be4d",
   "metadata": {},
   "source": [
    "### Export Data - Long Step (6+ Hours, Run Overnight)"
   ]
  },
  {
   "cell_type": "code",
   "execution_count": 10,
   "id": "e347c207-0084-4674-9c47-e34ffba9c520",
   "metadata": {},
   "outputs": [
    {
     "name": "stdout",
     "output_type": "stream",
     "text": [
      "CPU times: user 4h 36min 51s, sys: 2h 13min 23s, total: 6h 50min 15s\n",
      "Wall time: 4h 25min 2s\n"
     ]
    }
   ],
   "source": [
    "%%time\n",
    "\n",
    "outpath = '/glade/campaign/cgd/ppc/eperkins/cesm/'  # path for new observational data file\n",
    "data_name = 'cesmLE_B1850C5CN_H2OSNO_1900_2099_1D_MRBplus'  # name for new data file\n",
    "\n",
    "data_select.load().to_netcdf(outpath+data_name+'.nc')"
   ]
  }
 ],
 "metadata": {
  "kernelspec": {
   "display_name": "atm_diag_env",
   "language": "python",
   "name": "atm_diag_env"
  },
  "language_info": {
   "codemirror_mode": {
    "name": "ipython",
    "version": 3
   },
   "file_extension": ".py",
   "mimetype": "text/x-python",
   "name": "python",
   "nbconvert_exporter": "python",
   "pygments_lexer": "ipython3",
   "version": "3.9.7"
  }
 },
 "nbformat": 4,
 "nbformat_minor": 5
}
